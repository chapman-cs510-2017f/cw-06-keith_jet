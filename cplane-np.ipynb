{
 "cells": [
  {
   "cell_type": "code",
   "execution_count": 4,
   "metadata": {
    "collapsed": false
   },
   "outputs": [
   ],
   "source": [
    "\n",
    "import cplane_np\n",
    "from cplane_np import ArrayComplexPlane\n",
    "from cplane_np import doubleplane\n",
    "from cplane_np import powerplane\n",
    "\n"
   ]
  },
  {
   "cell_type": "markdown",
   "metadata": {
    "collapsed": false
   },
   "source": [
    "# 1. Why Use Array\n",
    "\n",
    "### 1.1 List is Not Very Efficient for Big Data\n",
    "To find elements of a list, python must traverse every element from the beginning to find memory links to the next elements, which may be stored anywhere in the entire computer memory\n",
    "This makes it very efficient to add and drop new elements of any type, but makes traversal and random access very slow.\n",
    "\n",
    "### 1.2 Array in Numpy Module\n",
    "The numpy module provides an array type that is a contiguous block of memory, all of one type, stored in a single Python memory box\n",
    "It is much faster when dealing with many values.\n"
   ]
  },
  {
   "cell_type": "markdown",
   "metadata": {
    "collapsed": false
   },
   "source": [
    "# 2. Implementation of Array\n",
    "### 2.1 Import the Numpy\n",
    "### 2.2 Construct the 2D grid\n",
    "Use Numpy's linspace method to constuct the x and y space according to the input, then use meshgrid to construct the complex plane.\n",
    "\n",
    "### 2.3 Import the Pandas\n",
    "### 2.4 Construct Dataframe for Complex Plane\n",
    "Use Pandas's dataframe method to add labels for the plane.\n",
    "\n"
   ]
  },
  {
   "cell_type": "markdown",
   "metadata": {
    "collapsed": false
   },
   "source": [
    "# 3. The Implementation\n",
    "## __initplane__ method in ArrayComplexPlane Class, use linspace and meshgrid to construct the complex plane\n",
    "## apply method Use numpy vectorize method to apply function to the complex plane "
   ]
  },
  {
   "cell_type": "code",
   "execution_count": 0,
   "metadata": {
    "collapsed": false
   },
   "outputs": [
   ],
   "source": [
    "'''\n",
    "\n",
    "    def __initplane__(self):\n",
    "        '''\n",
    "        init the complex plane by average distance of X and Y\n",
    "        '''\n",
    "        \n",
    "        \n",
    "        ##use numpy to add the 2D grid in an array\n",
    "        x=np.linspace(self.xmin,self.xmax,self.xlen)\n",
    "        y=np.linspace(self.ymin,self.ymax,self.ylen)\n",
    "        xx, yy = np.meshgrid(x,y)\n",
    "        self.plane = xx + yy*1j\n",
    "        self.df = pd.DataFrame(xx+(1j)*yy, index=y, columns=x)\n",
    "\n",
    "    def apply(self, fun):\n",
    "        \"\"\"Add the function f as the last element of self.fs. \n",
    "        Apply f to every point of the plane, so that the resulting\n",
    "        value of self.plane is the final output of the sequence of\n",
    "        transformations collected in the list self.fs.\n",
    "        \"\"\"\n",
    "        \n",
    "        #self.plane = fun(self.plane)\n",
    "        \n",
    "        # use numpy vectorize \n",
    "        fv = np.vectorize(fun)\n",
    "        self.plane = fv(self.plane)\n",
    "        self.fs.append(fun)"
   ]
  },
  {
   "cell_type": "markdown",
   "metadata": {
    "collapsed": false
   },
   "source": [
    "# 4 Code Execution"
   ]
  },
  {
   "cell_type": "code",
   "execution_count": 6,
   "metadata": {
    "collapsed": false
   },
   "outputs": [
   ],
   "source": [
    "ACP = ArrayComplexPlane(1,4,3,2,5,3)\n",
    "print(\"init plane\")\n",
    "print(ACP.plane)\n",
    "\n",
    "print(\"double fun\")\n",
    "ACP.apply(doubleplane)\n",
    "print(ACP.plane)\n",
    "\n",
    "print(\"power fun\")\n",
    "ACP.apply(powerplane)\n",
    "print(ACP.plane)\n",
    "\n",
    "print(\"add 2\")\n",
    "#ff = lambda x: x+(1+1*1j)\n",
    "ff = lambda x: x+2\n",
    "ACP.apply(ff)\n",
    "print(ACP.plane)"
   ]
  },
  {
   "cell_type": "markdown",
   "metadata": {
    "collapsed": false
   },
   "source": [
    "# 5 List V.S. Array\n",
    "## 5.1 List Implementation"
   ]
  },
  {
   "cell_type": "code",
   "execution_count": 1,
   "metadata": {
    "collapsed": false,
    "scrolled": true
   },
   "outputs": [
    {
     "name": "stdout",
     "output_type": "stream",
     "text": [
      "init plane\n",
      "[[(1+2j), (2.5+2j), (4+2j)], [(1+3.5j), (2.5+3.5j), (4+3.5j)], [(1+5j), (2.5+5j), (4+5j)]]\n",
      "double fun\n",
      "[[(2+4j), (5+4j), (8+4j)], [(2+7j), (5+7j), (8+7j)], [(2+10j), (5+10j), (8+10j)]]\n",
      "power fun\n",
      "[[(-12+16j), (9+40j), (48+64j)], [(-45+28j), (-24+70j), (15+112j)], [(-96+40j), (-75+100j), (-36+160j)]]\n",
      "[<function doubleplane at 0x7f00979fd9d8>, <function powerplane at 0x7f0097724840>]\n"
     ]
    },
    {
     "name": "stdout",
     "output_type": "stream",
     "text": [
      "13.6 µs ± 1.03 µs per loop (mean ± std. dev. of 7 runs, 100000 loops each)\n"
     ]
    }
   ],
   "source": [
    "from cplane import ListComplexPlane\n",
    "from cplane import doubleplane\n",
    "from cplane import powerplane\n",
    "\n",
    "%timeit LCP = ListComplexPlane(1,100,2,2,200,6)\n",
    "\n"
   ]
  },
  {
   "cell_type": "markdown",
   "metadata": {
    "collapsed": false
   },
   "source": [
    "## 5.2 Array Implementation"
   ]
  },
  {
   "cell_type": "code",
   "execution_count": 2,
   "metadata": {
    "collapsed": false
   },
   "outputs": [
    {
     "name": "stdout",
     "output_type": "stream",
     "text": [
      "init plane\n",
      "[[ 1.0+2.j   2.5+2.j   4.0+2.j ]\n",
      " [ 1.0+3.5j  2.5+3.5j  4.0+3.5j]\n",
      " [ 1.0+5.j   2.5+5.j   4.0+5.j ]]\n",
      "double fun\n",
      "[[ 2. +4.j  5. +4.j  8. +4.j]\n",
      " [ 2. +7.j  5. +7.j  8. +7.j]\n",
      " [ 2.+10.j  5.+10.j  8.+10.j]]\n",
      "power fun\n",
      "[[-12. +16.j   9. +40.j  48. +64.j]\n",
      " [-45. +28.j -24. +70.j  15.+112.j]\n",
      " [-96. +40.j -75.+100.j -36.+160.j]]\n",
      "add 2\n",
      "[[-10. +16.j  11. +40.j  50. +64.j]\n",
      " [-43. +28.j -22. +70.j  17.+112.j]\n",
      " [-94. +40.j -73.+100.j -34.+160.j]]\n"
     ]
    },
    {
     "name": "stdout",
     "output_type": "stream",
     "text": [
      "94.8 µs ± 4.93 µs per loop (mean ± std. dev. of 7 runs, 10000 loops each)\n"
     ]
    }
   ],
   "source": [
    "import cplane_np\n",
    "from cplane_np import ArrayComplexPlane\n",
    "from cplane_np import doubleplane\n",
    "from cplane_np import powerplane\n",
    "\n",
    "%timeit ACP = ArrayComplexPlane(1,100,2,2,200,6)\n"
   ]
  },
  {
   "cell_type": "code",
   "execution_count": 0,
   "metadata": {
    "collapsed": false
   },
   "outputs": [
   ],
   "source": [
   ]
  }
 ],
 "metadata": {
  "kernelspec": {
   "display_name": "Python 3 (Ubuntu Linux)",
   "language": "python",
   "name": "python3"
  },
  "language_info": {
   "codemirror_mode": {
    "name": "ipython",
    "version": 3
   },
   "file_extension": ".py",
   "mimetype": "text/x-python",
   "name": "python",
   "nbconvert_exporter": "python",
   "pygments_lexer": "ipython3",
   "version": "3.5.2"
  }
 },
 "nbformat": 4,
 "nbformat_minor": 0
}